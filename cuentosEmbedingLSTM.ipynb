{
 "cells": [
  {
   "cell_type": "markdown",
   "metadata": {},
   "source": [
    "# Cuentos Generator"
   ]
  },
  {
   "cell_type": "markdown",
   "metadata": {},
   "source": [
    "## Get the Data"
   ]
  },
  {
   "cell_type": "code",
   "execution_count": 6,
   "metadata": {
    "collapsed": true
   },
   "outputs": [],
   "source": [
    "import helper\n",
    "\n",
    "data_dir = './data/cuentos.txt'\n",
    "text = helper.load_data(data_dir)"
   ]
  },
  {
   "cell_type": "code",
   "execution_count": 7,
   "metadata": {
    "collapsed": true
   },
   "outputs": [],
   "source": [
    "# Ignore \\ufeff\n",
    "text = text[1:]"
   ]
  },
  {
   "cell_type": "markdown",
   "metadata": {},
   "source": [
    "## Explore the Data\n",
    "Play around with `view_sentence_range` to view different parts of the data."
   ]
  },
  {
   "cell_type": "code",
   "execution_count": 9,
   "metadata": {},
   "outputs": [
    {
     "name": "stdout",
     "output_type": "stream",
     "text": [
      "Dataset Stats\n",
      "Roughly the number of unique words: 21485\n",
      "Number of scenes: 102\n",
      "Average number of sentences in each scene: 21.970588235294116\n",
      "Number of lines: 2343\n",
      "Average number of words in each line: 43.56380708493385\n",
      "\n",
      "The sentences 0 to 10:\n",
      "Al pie de la Biblia abierta –donde estaba señalado en rojo el versículo que lo explicaría todo– alineó las cartas: a su mujer, al juez, a los amigos. Después bebió el veneno y se acostó.\n",
      "Nada. A la hora se levantó y miró el frasco. Sí, era el veneno.\n",
      "¡Estaba tan seguro! Recargó la dosis y bebió otro vaso. Se acostó de nuevo. Otra hora. No moría. Entonces disparó su revólver contra la sien. ¿Qué broma era ésa? Alguien -¿pero quién, cuándo?- alguien le había cambiado el veneno por agua, las balas por cartuchos de fogueo. Disparó contra la sien las otras cuatro balas. Inútil. Cerró la Biblia, recogió las cartas y salió del cuarto en momentos en que el dueño del hotel, mucamos y curiosos acudían alarmados por el estruendo de los cinco estampidos.\n",
      "Al llegar a su casa se encontró con su mujer envenenada y con sus cinco hijos en el suelo, cada uno con un balazo en la sien.\n",
      "Tomó el cuchillo de la cocina, se desnudó el vientre y se fue dando cuchilladas. La hoja se hundía en las carnes blandas y luego salía limpia como del agua. Las carnes recobraban su lisitud como el agua después que le pescan el pez.\n",
      "Se derramó nafta en la ropa y los fósforos se apagaban chirriando.\n",
      "Corrió hacia el balcón y antes de tirarse pudo ver en la calle el tendal de hombres y mujeres desangrándose por los vientres acuchillados, entre las llamas de la ciudad incendiada.\n",
      "<eof>\n",
      "En mi habitación la cama estaba aquí, el armario allá y en medio la mesa.\n",
      "Hasta que esto me aburrió. Puse entonces la cama allá y el armario aquí.\n"
     ]
    }
   ],
   "source": [
    "view_sentence_range = (0, 10)\n",
    "\n",
    "import numpy as np\n",
    "\n",
    "print('Dataset Stats')\n",
    "print('Roughly the number of unique words: {}'.format(len({word: None for word in text.split()})))\n",
    "scenes = text.split('\\n\\n')\n",
    "print('Number of scenes: {}'.format(len(scenes)))\n",
    "sentence_count_scene = [scene.count('\\n') for scene in scenes]\n",
    "print('Average number of sentences in each scene: {}'.format(np.average(sentence_count_scene)))\n",
    "\n",
    "sentences = [sentence for scene in scenes for sentence in scene.split('\\n')]\n",
    "print('Number of lines: {}'.format(len(sentences)))\n",
    "word_count_sentence = [len(sentence.split()) for sentence in sentences]\n",
    "print('Average number of words in each line: {}'.format(np.average(word_count_sentence)))\n",
    "\n",
    "print()\n",
    "print('The sentences {} to {}:'.format(*view_sentence_range))\n",
    "print('\\n'.join(text.split('\\n')[view_sentence_range[0]:view_sentence_range[1]]))"
   ]
  },
  {
   "cell_type": "markdown",
   "metadata": {},
   "source": [
    "## Implement Preprocessing Functions\n",
    "The first thing to do to any dataset is preprocessing.  Implement the following preprocessing functions below:\n",
    "- Lookup Table\n",
    "- Tokenize Punctuation\n",
    "\n",
    "### Lookup Table\n",
    "To create a word embedding, you first need to transform the words to ids.  In this function, create two dictionaries:\n",
    "- Dictionary to go from the words to an id, we'll call `vocab_to_int`\n",
    "- Dictionary to go from the id to word, we'll call `int_to_vocab`\n",
    "\n",
    "Return these dictionaries in the following tuple `(vocab_to_int, int_to_vocab)`"
   ]
  },
  {
   "cell_type": "code",
   "execution_count": 13,
   "metadata": {},
   "outputs": [
    {
     "data": {
      "text/plain": [
       "({'a': 0, 'b': 1}, {0: 'a', 1: 'b'})"
      ]
     },
     "execution_count": 13,
     "metadata": {},
     "output_type": "execute_result"
    }
   ],
   "source": [
    "import numpy as np\n",
    "import problem_unittests as tests\n",
    "\n",
    "def create_lookup_tables(text):\n",
    "    \"\"\"\n",
    "    Create lookup tables for vocabulary\n",
    "    :param text: The text of tv scripts split into words\n",
    "    :return: A tuple of dicts (vocab_to_int, int_to_vocab)\n",
    "    \"\"\"\n",
    "    vocab = []\n",
    "    for word in text:\n",
    "        if not (word in vocab):\n",
    "            vocab.append(word)\n",
    "    n_words = len(vocab)\n",
    "    return {vocab[i]:i for i in range(n_words)}, {i:vocab[i] for i in range(n_words)}\n",
    "\n",
    "create_lookup_tables(['a', 'b', 'a'])"
   ]
  },
  {
   "cell_type": "code",
   "execution_count": 14,
   "metadata": {},
   "outputs": [
    {
     "name": "stdout",
     "output_type": "stream",
     "text": [
      "Tests Passed\n"
     ]
    }
   ],
   "source": [
    "tests.test_create_lookup_tables(create_lookup_tables)"
   ]
  },
  {
   "cell_type": "markdown",
   "metadata": {},
   "source": [
    "### Tokenize Punctuation\n",
    "We'll be splitting the script into a word array using spaces as delimiters.  However, punctuations like periods and exclamation marks make it hard for the neural network to distinguish between the word \"bye\" and \"bye!\".\n",
    "\n",
    "Implement the function `token_lookup` to return a dict that will be used to tokenize symbols like \"!\" into \"||Exclamation_Mark||\".  Create a dictionary for the following symbols where the symbol is the key and value is the token:\n",
    "- Period ( . )\n",
    "- Comma ( , )\n",
    "- Quotation Mark ( \" )\n",
    "- Semicolon ( ; )\n",
    "- Exclamation mark ( ! )\n",
    "- Question mark ( ? )\n",
    "- Left Parentheses ( ( )\n",
    "- Right Parentheses ( ) )\n",
    "- Dash ( -- )\n",
    "- Return ( \\n )\n",
    "\n",
    "This dictionary will be used to token the symbols and add the delimiter (space) around it.  This separates the symbols as it's own word, making it easier for the neural network to predict on the next word. Make sure you don't use a token that could be confused as a word. Instead of using the token \"dash\", try using something like \"||dash||\"."
   ]
  },
  {
   "cell_type": "code",
   "execution_count": 15,
   "metadata": {},
   "outputs": [
    {
     "name": "stdout",
     "output_type": "stream",
     "text": [
      "Tests Passed\n"
     ]
    }
   ],
   "source": [
    "def token_lookup():\n",
    "    \"\"\"\n",
    "    Generate a dict to turn punctuation into a token.\n",
    "    :return: Tokenize dictionary where the key is the punctuation and the value is the token\n",
    "    \"\"\"\n",
    "    return {\n",
    "        '.' : '||Period||', \n",
    "        ',' : '||Comma||', \n",
    "        '\"' : '||QuotationMark||', \n",
    "        ';' : '||Semicolon||',\n",
    "        '!' : '||ExclamationMark||',\n",
    "        '?' : '||QuestionMark||',\n",
    "        '(' : '||LeftParentheses||',\n",
    "        ')' : '||RightParentheses||',\n",
    "        '--': '||Dash||',\n",
    "        '\\n': '||Return||'}\n",
    "\n",
    "tests.test_tokenize(token_lookup)"
   ]
  },
  {
   "cell_type": "markdown",
   "metadata": {},
   "source": [
    "## Preprocess all the data and save it\n",
    "Running the code cell below will preprocess all the data and save it to file."
   ]
  },
  {
   "cell_type": "code",
   "execution_count": 16,
   "metadata": {
    "collapsed": true
   },
   "outputs": [],
   "source": [
    "# Preprocess Training, Validation, and Testing Data\n",
    "helper.preprocess_and_save_data(data_dir, token_lookup, create_lookup_tables)"
   ]
  },
  {
   "cell_type": "markdown",
   "metadata": {},
   "source": [
    "# Check Point\n",
    "This is your first checkpoint. If you ever decide to come back to this notebook or have to restart the notebook, you can start from here. The preprocessed data has been saved to disk."
   ]
  },
  {
   "cell_type": "code",
   "execution_count": 17,
   "metadata": {
    "collapsed": true
   },
   "outputs": [],
   "source": [
    "import helper\n",
    "import numpy as np\n",
    "import problem_unittests as tests\n",
    "\n",
    "int_text, vocab_to_int, int_to_vocab, token_dict = helper.load_preprocess()"
   ]
  },
  {
   "cell_type": "code",
   "execution_count": 18,
   "metadata": {},
   "outputs": [
    {
     "data": {
      "text/plain": [
       "118431"
      ]
     },
     "execution_count": 18,
     "metadata": {},
     "output_type": "execute_result"
    }
   ],
   "source": [
    "len(int_text)"
   ]
  },
  {
   "cell_type": "code",
   "execution_count": 19,
   "metadata": {},
   "outputs": [
    {
     "data": {
      "text/plain": [
       "[0, 1, 2, 3, 4, 5, 6, 7, 8, 9, 10, 8, 5, 11, 12, 13, 14, 15, 16, 17]"
      ]
     },
     "execution_count": 19,
     "metadata": {},
     "output_type": "execute_result"
    }
   ],
   "source": [
    "int_text[:20]"
   ]
  },
  {
   "cell_type": "markdown",
   "metadata": {},
   "source": [
    "## Build the Neural Network\n",
    "You'll build the components necessary to build a RNN by implementing the following functions below:\n",
    "- get_inputs\n",
    "- get_init_cell\n",
    "- get_embed\n",
    "- build_rnn\n",
    "- build_nn\n",
    "- get_batches\n",
    "\n",
    "### Check the Version of TensorFlow and Access to GPU"
   ]
  },
  {
   "cell_type": "code",
   "execution_count": 20,
   "metadata": {},
   "outputs": [
    {
     "name": "stdout",
     "output_type": "stream",
     "text": [
      "TensorFlow Version: 1.0.0\n"
     ]
    },
    {
     "name": "stderr",
     "output_type": "stream",
     "text": [
      "/Users/bartekskorulski/Envs/tf1.0/lib/python3.6/site-packages/ipykernel_launcher.py:11: UserWarning: No GPU found. Please use a GPU to train your neural network.\n",
      "  # This is added back by InteractiveShellApp.init_path()\n"
     ]
    }
   ],
   "source": [
    "from distutils.version import LooseVersion\n",
    "import warnings\n",
    "import tensorflow as tf\n",
    "\n",
    "# Check TensorFlow Version\n",
    "assert LooseVersion(tf.__version__) >= LooseVersion('1.0'), 'Please use TensorFlow version 1.0 or newer'\n",
    "print('TensorFlow Version: {}'.format(tf.__version__))\n",
    "\n",
    "# Check for a GPU\n",
    "if not tf.test.gpu_device_name():\n",
    "    warnings.warn('No GPU found. Please use a GPU to train your neural network.')\n",
    "else:\n",
    "    print('Default GPU Device: {}'.format(tf.test.gpu_device_name()))"
   ]
  },
  {
   "cell_type": "markdown",
   "metadata": {},
   "source": [
    "### Input\n",
    "Implement the `get_inputs()` function to create TF Placeholders for the Neural Network.  It should create the following placeholders:\n",
    "- Input text placeholder named \"input\" using the [TF Placeholder](https://www.tensorflow.org/api_docs/python/tf/placeholder) `name` parameter.\n",
    "- Targets placeholder\n",
    "- Learning Rate placeholder\n",
    "\n",
    "Return the placeholders in the following tuple `(Input, Targets, LearningRate)`"
   ]
  },
  {
   "cell_type": "code",
   "execution_count": 21,
   "metadata": {},
   "outputs": [
    {
     "name": "stdout",
     "output_type": "stream",
     "text": [
      "Tests Passed\n"
     ]
    }
   ],
   "source": [
    "def get_inputs():\n",
    "    \"\"\"\n",
    "    Create TF Placeholders for input, targets, and learning rate.\n",
    "    :return: Tuple (input, targets, learning rate)\n",
    "    \"\"\"\n",
    "    inputs = tf.placeholder(tf.int32, [None, None], name='input')\n",
    "    target = tf.placeholder(tf.int32, [None, None])\n",
    "    learning_rate = tf.placeholder(tf.float32)\n",
    "    return inputs, target, learning_rate\n",
    "\n",
    "tests.test_get_inputs(get_inputs)"
   ]
  },
  {
   "cell_type": "markdown",
   "metadata": {},
   "source": [
    "### Build RNN Cell and Initialize\n",
    "Stack one or more [`BasicLSTMCells`](https://www.tensorflow.org/api_docs/python/tf/contrib/rnn/BasicLSTMCell) in a [`MultiRNNCell`](https://www.tensorflow.org/api_docs/python/tf/contrib/rnn/MultiRNNCell).\n",
    "- The Rnn size should be set using `rnn_size`\n",
    "- Initalize Cell State using the MultiRNNCell's [`zero_state()`](https://www.tensorflow.org/api_docs/python/tf/contrib/rnn/MultiRNNCell#zero_state) function\n",
    "    - Apply the name \"initial_state\" to the initial state using [`tf.identity()`](https://www.tensorflow.org/api_docs/python/tf/identity)\n",
    "\n",
    "Return the cell and initial state in the following tuple `(Cell, InitialState)`"
   ]
  },
  {
   "cell_type": "code",
   "execution_count": 22,
   "metadata": {},
   "outputs": [
    {
     "name": "stdout",
     "output_type": "stream",
     "text": [
      "Tests Passed\n"
     ]
    }
   ],
   "source": [
    "LSTM_LAYERS = 1\n",
    "\n",
    "def get_init_cell(batch_size, rnn_size):\n",
    "    \"\"\"\n",
    "    Create an RNN Cell and initialize it.\n",
    "    :param batch_size: Size of batches\n",
    "    :param rnn_size: Size of RNNs\n",
    "    :return: Tuple (cell, initialize state)\n",
    "    \"\"\"\n",
    "    \n",
    "    lstm = tf.contrib.rnn.BasicLSTMCell(rnn_size)\n",
    "    stacked_lstm_cell = tf.contrib.rnn.MultiRNNCell([lstm] * LSTM_LAYERS)\n",
    "    initial_state = tf.identity(stacked_lstm_cell.zero_state(batch_size, tf.float32), name = 'initial_state')\n",
    "    return stacked_lstm_cell, initial_state\n",
    "\n",
    "\n",
    "tests.test_get_init_cell(get_init_cell)"
   ]
  },
  {
   "cell_type": "markdown",
   "metadata": {},
   "source": [
    "### Word Embedding\n",
    "Apply embedding to `input_data` using TensorFlow.  Return the embedded sequence."
   ]
  },
  {
   "cell_type": "code",
   "execution_count": 23,
   "metadata": {},
   "outputs": [
    {
     "name": "stdout",
     "output_type": "stream",
     "text": [
      "Tests Passed\n"
     ]
    }
   ],
   "source": [
    "def get_embed(input_data, vocab_size, embed_dim):\n",
    "    \"\"\"\n",
    "    Create embedding for <input_data>.\n",
    "    :param input_data: TF placeholder for text input.\n",
    "    :param vocab_size: Number of words in vocabulary.\n",
    "    :param embed_dim: Number of embedding dimensions\n",
    "    :return: Embedded input.\n",
    "    \"\"\"\n",
    "    embedding = tf.Variable(tf.random_uniform((vocab_size, embed_dim), -1, 1))\n",
    "    embed = tf.nn.embedding_lookup(embedding, input_data)\n",
    "    return embed\n",
    "\n",
    "tests.test_get_embed(get_embed)"
   ]
  },
  {
   "cell_type": "markdown",
   "metadata": {},
   "source": [
    "### Build RNN\n",
    "You created a RNN Cell in the `get_init_cell()` function.  Time to use the cell to create a RNN.\n",
    "- Build the RNN using the [`tf.nn.dynamic_rnn()`](https://www.tensorflow.org/api_docs/python/tf/nn/dynamic_rnn)\n",
    " - Apply the name \"final_state\" to the final state using [`tf.identity()`](https://www.tensorflow.org/api_docs/python/tf/identity)\n",
    "\n",
    "Return the outputs and final_state state in the following tuple `(Outputs, FinalState)` "
   ]
  },
  {
   "cell_type": "code",
   "execution_count": 24,
   "metadata": {},
   "outputs": [
    {
     "name": "stdout",
     "output_type": "stream",
     "text": [
      "Tests Passed\n"
     ]
    }
   ],
   "source": [
    "def build_rnn(cell, inputs):\n",
    "    \"\"\"\n",
    "    Create a RNN using a RNN Cell\n",
    "    :param cell: RNN Cell\n",
    "    :param inputs: Input text data\n",
    "    :return: Tuple (Outputs, Final State)\n",
    "    \"\"\"\n",
    "    # TODO: Implement Function\n",
    "    outputs, state = tf.nn.dynamic_rnn(cell, inputs=inputs, dtype=tf.float32)\n",
    "    final_state = tf.identity(state, name=\"final_state\")\n",
    "    return outputs, final_state\n",
    "\n",
    "tests.test_build_rnn(build_rnn)"
   ]
  },
  {
   "cell_type": "markdown",
   "metadata": {},
   "source": [
    "### Build the Neural Network\n",
    "Apply the functions you implemented above to:\n",
    "- Apply embedding to `input_data` using your `get_embed(input_data, vocab_size, embed_dim)` function.\n",
    "- Build RNN using `cell` and your `build_rnn(cell, inputs)` function.\n",
    "- Apply a fully connected layer with a linear activation and `vocab_size` as the number of outputs.\n",
    "\n",
    "Return the logits and final state in the following tuple (Logits, FinalState) "
   ]
  },
  {
   "cell_type": "code",
   "execution_count": 25,
   "metadata": {},
   "outputs": [
    {
     "name": "stdout",
     "output_type": "stream",
     "text": [
      "Tests Passed\n"
     ]
    }
   ],
   "source": [
    "def build_nn(cell, rnn_size, input_data, vocab_size, embed_dim):\n",
    "    \"\"\"\n",
    "    Build part of the neural network\n",
    "    :param cell: RNN cell\n",
    "    :param rnn_size: Size of rnns\n",
    "    :param input_data: Input data\n",
    "    :param vocab_size: Vocabulary size\n",
    "    :param embed_dim: Number of embedding dimensions\n",
    "    :return: Tuple (Logits, FinalState)\n",
    "    \"\"\"\n",
    "    embed = get_embed(input_data, vocab_size, embed_dim) \n",
    "    outputs, final_state = build_rnn(cell, embed)\n",
    "    output_rnn = outputs[-1]\n",
    "    fc_out = tf.contrib.layers.fully_connected(outputs, vocab_size, activation_fn = None)\n",
    "    return fc_out, final_state\n",
    "\n",
    "tests.test_build_nn(build_nn)"
   ]
  },
  {
   "cell_type": "markdown",
   "metadata": {},
   "source": [
    "### Batches\n",
    "Implement `get_batches` to create batches of input and targets using `int_text`.  The batches should be a Numpy array with the shape `(number of batches, 2, batch size, sequence length)`. Each batch contains two elements:\n",
    "- The first element is a single batch of **input** with the shape `[batch size, sequence length]`\n",
    "- The second element is a single batch of **targets** with the shape `[batch size, sequence length]`\n",
    "\n",
    "If you can't fill the last batch with enough data, drop the last batch.\n",
    "\n",
    "For exmple, `get_batches([1, 2, 3, 4, 5, 6, 7, 8, 9, 10, 11, 12, 13, 14, 15, 16, 17, 18, 19, 20], 3, 2)` would return a Numpy array of the following:\n",
    "```\n",
    "[\n",
    "  # First Batch\n",
    "  [\n",
    "    # Batch of Input\n",
    "    [[ 1  2], [ 7  8], [13 14]]\n",
    "    # Batch of targets\n",
    "    [[ 2  3], [ 8  9], [14 15]]\n",
    "  ]\n",
    "\n",
    "  # Second Batch\n",
    "  [\n",
    "    # Batch of Input\n",
    "    [[ 3  4], [ 9 10], [15 16]]\n",
    "    # Batch of targets\n",
    "    [[ 4  5], [10 11], [16 17]]\n",
    "  ]\n",
    "\n",
    "  # Third Batch\n",
    "  [\n",
    "    # Batch of Input\n",
    "    [[ 5  6], [11 12], [17 18]]\n",
    "    # Batch of targets\n",
    "    [[ 6  7], [12 13], [18  1]]\n",
    "  ]\n",
    "]\n",
    "```\n",
    "\n",
    "Notice that the last target value in the last batch is the first input value of the first batch. In this case, `1`. This is a common technique used when creating sequence batches, although it is rather unintuitive."
   ]
  },
  {
   "cell_type": "code",
   "execution_count": 26,
   "metadata": {},
   "outputs": [
    {
     "data": {
      "text/plain": [
       "array([[[[ 1,  2],\n",
       "         [ 9, 10],\n",
       "         [17, 18]],\n",
       "\n",
       "        [[ 2,  3],\n",
       "         [10, 11],\n",
       "         [18, 19]]],\n",
       "\n",
       "\n",
       "       [[[ 3,  4],\n",
       "         [11, 12],\n",
       "         [19, 20]],\n",
       "\n",
       "        [[ 4,  5],\n",
       "         [12, 13],\n",
       "         [20, 21]]],\n",
       "\n",
       "\n",
       "       [[[ 5,  6],\n",
       "         [13, 14],\n",
       "         [21, 22]],\n",
       "\n",
       "        [[ 6,  7],\n",
       "         [14, 15],\n",
       "         [22, 23]]],\n",
       "\n",
       "\n",
       "       [[[ 7,  8],\n",
       "         [15, 16],\n",
       "         [23, 24]],\n",
       "\n",
       "        [[ 8,  9],\n",
       "         [16, 17],\n",
       "         [24,  1]]]])"
      ]
     },
     "execution_count": 26,
     "metadata": {},
     "output_type": "execute_result"
    }
   ],
   "source": [
    "def get_batches(int_text, batch_size, seq_length):\n",
    "    \"\"\"\n",
    "    Return batches of input and target\n",
    "    :param int_text: Text with the words replaced by their ids\n",
    "    :param batch_size: The size of batch\n",
    "    :param seq_length: The length of sequence\n",
    "    :return: Batches as a Numpy array\n",
    "    \"\"\"\n",
    "    n_words = len(int_text)\n",
    "    batch_len = batch_size * seq_length\n",
    "    n_batches = n_words//batch_len\n",
    "    x = int_text[ : n_batches * batch_len]\n",
    "    y = x[1:] + [x[0]]\n",
    "    x = np.reshape(x, (batch_size, -1))\n",
    "    y = np.reshape(y, (batch_size, -1))\n",
    "    batches = []\n",
    "    for i in range(n_batches):\n",
    "        batches.append([\n",
    "            x[:, i*seq_length:(i+1)*seq_length],\n",
    "            y[:, i*seq_length:(i+1)*seq_length]\n",
    "        ])\n",
    "    return np.array(batches)\n",
    "           \n",
    "get_batches([1, 2, 3, 4, 5, 6, 7, 8, 9, 10, 11, 12, 13, 14, 15, 16, 17, 18, 19, 20, 21, 22, 23, 24, 25, 26], 3, 2)"
   ]
  },
  {
   "cell_type": "code",
   "execution_count": 27,
   "metadata": {},
   "outputs": [
    {
     "name": "stdout",
     "output_type": "stream",
     "text": [
      "Tests Passed\n"
     ]
    }
   ],
   "source": [
    "tests.test_get_batches(get_batches)"
   ]
  },
  {
   "cell_type": "markdown",
   "metadata": {},
   "source": [
    "## Neural Network Training\n",
    "### Hyperparameters\n",
    "Tune the following parameters:\n",
    "\n",
    "- Set `num_epochs` to the number of epochs.\n",
    "- Set `batch_size` to the batch size.\n",
    "- Set `rnn_size` to the size of the RNNs.\n",
    "- Set `embed_dim` to the size of the embedding.\n",
    "- Set `seq_length` to the length of sequence.\n",
    "- Set `learning_rate` to the learning rate.\n",
    "- Set `show_every_n_batches` to the number of batches the neural network should print progress."
   ]
  },
  {
   "cell_type": "code",
   "execution_count": 59,
   "metadata": {
    "collapsed": true
   },
   "outputs": [],
   "source": [
    "# Number of Epochs\n",
    "num_epochs = 100\n",
    "# Batch Size\n",
    "batch_size = 32\n",
    "# RNN Size\n",
    "rnn_size = 256\n",
    "# Embedding Dimension Size\n",
    "embed_dim = 200\n",
    "# Sequence Length\n",
    "seq_length = 128\n",
    "# Learning Rate\n",
    "learning_rate = 0.01\n",
    "# Show stats for every n number of batches\n",
    "show_every_n_batches = 256//batch_size\n",
    "\n",
    "save_dir = './save'"
   ]
  },
  {
   "cell_type": "code",
   "execution_count": 60,
   "metadata": {},
   "outputs": [
    {
     "data": {
      "text/plain": [
       "8"
      ]
     },
     "execution_count": 60,
     "metadata": {},
     "output_type": "execute_result"
    }
   ],
   "source": [
    "show_every_n_batches"
   ]
  },
  {
   "cell_type": "markdown",
   "metadata": {},
   "source": [
    "### Build the Graph\n",
    "Build the graph using the neural network you implemented."
   ]
  },
  {
   "cell_type": "code",
   "execution_count": 61,
   "metadata": {
    "collapsed": true
   },
   "outputs": [],
   "source": [
    "from tensorflow.contrib import seq2seq\n",
    "\n",
    "train_graph = tf.Graph()\n",
    "with train_graph.as_default():\n",
    "    vocab_size = len(int_to_vocab)\n",
    "    input_text, targets, lr = get_inputs()\n",
    "    input_data_shape = tf.shape(input_text)\n",
    "    cell, initial_state = get_init_cell(input_data_shape[0], rnn_size)\n",
    "    logits, final_state = build_nn(cell, rnn_size, input_text, vocab_size, embed_dim)\n",
    "\n",
    "    # Probabilities for generating words\n",
    "    probs = tf.nn.softmax(logits, name='probs')\n",
    "\n",
    "    # Loss function\n",
    "    cost = seq2seq.sequence_loss(\n",
    "        logits,\n",
    "        targets,\n",
    "        tf.ones([input_data_shape[0], input_data_shape[1]]))\n",
    "\n",
    "    # Optimizer\n",
    "    optimizer = tf.train.AdamOptimizer(lr)\n",
    "\n",
    "    # Gradient Clipping\n",
    "    gradients = optimizer.compute_gradients(cost)\n",
    "    capped_gradients = [(tf.clip_by_value(grad, -1., 1.), var) for grad, var in gradients if grad is not None]\n",
    "    train_op = optimizer.apply_gradients(capped_gradients)"
   ]
  },
  {
   "cell_type": "markdown",
   "metadata": {},
   "source": [
    "## Train\n",
    "Train the neural network on the preprocessed data.  If you have a hard time getting a good loss, check the [forms](https://discussions.udacity.com/) to see if anyone is having the same problem."
   ]
  },
  {
   "cell_type": "code",
   "execution_count": null,
   "metadata": {},
   "outputs": [
    {
     "name": "stdout",
     "output_type": "stream",
     "text": [
      "Epoch   0 Batch    0/28   train_loss = 9.654\n",
      "Epoch   0 Batch    8/28   train_loss = 7.463\n",
      "Epoch   0 Batch   16/28   train_loss = 7.109\n",
      "Epoch   0 Batch   24/28   train_loss = 6.719\n",
      "Epoch   1 Batch    4/28   train_loss = 6.339\n",
      "Epoch   1 Batch   12/28   train_loss = 6.164\n",
      "Epoch   1 Batch   20/28   train_loss = 5.975\n",
      "Epoch   2 Batch    0/28   train_loss = 5.669\n",
      "Epoch   2 Batch    8/28   train_loss = 5.529\n",
      "Epoch   2 Batch   16/28   train_loss = 5.610\n",
      "Epoch   2 Batch   24/28   train_loss = 5.484\n",
      "Epoch   3 Batch    4/28   train_loss = 5.340\n",
      "Epoch   3 Batch   12/28   train_loss = 5.268\n",
      "Epoch   3 Batch   20/28   train_loss = 5.264\n",
      "Epoch   4 Batch    0/28   train_loss = 5.108\n",
      "Epoch   4 Batch    8/28   train_loss = 4.974\n",
      "Epoch   4 Batch   16/28   train_loss = 5.001\n",
      "Epoch   4 Batch   24/28   train_loss = 4.890\n",
      "Epoch   5 Batch    4/28   train_loss = 4.812\n",
      "Epoch   5 Batch   12/28   train_loss = 4.756\n",
      "Epoch   5 Batch   20/28   train_loss = 4.618\n",
      "Epoch   6 Batch    0/28   train_loss = 4.561\n",
      "Epoch   6 Batch    8/28   train_loss = 4.452\n",
      "Epoch   6 Batch   16/28   train_loss = 4.393\n",
      "Epoch   6 Batch   24/28   train_loss = 4.230\n",
      "Epoch   7 Batch    4/28   train_loss = 4.207\n",
      "Epoch   7 Batch   12/28   train_loss = 4.144\n",
      "Epoch   7 Batch   20/28   train_loss = 4.050\n",
      "Epoch   8 Batch    0/28   train_loss = 4.000\n",
      "Epoch   8 Batch    8/28   train_loss = 3.960\n",
      "Epoch   8 Batch   16/28   train_loss = 3.886\n",
      "Epoch   8 Batch   24/28   train_loss = 3.726\n",
      "Epoch   9 Batch    4/28   train_loss = 3.756\n",
      "Epoch   9 Batch   12/28   train_loss = 3.640\n",
      "Epoch   9 Batch   20/28   train_loss = 3.658\n",
      "Epoch  10 Batch    0/28   train_loss = 3.573\n",
      "Epoch  10 Batch    8/28   train_loss = 3.581\n",
      "Epoch  10 Batch   16/28   train_loss = 3.466\n",
      "Epoch  10 Batch   24/28   train_loss = 3.391\n",
      "Epoch  11 Batch    4/28   train_loss = 3.355\n",
      "Epoch  11 Batch   12/28   train_loss = 3.374\n",
      "Epoch  11 Batch   20/28   train_loss = 3.302\n",
      "Epoch  12 Batch    0/28   train_loss = 3.297\n",
      "Epoch  12 Batch    8/28   train_loss = 3.220\n",
      "Epoch  12 Batch   16/28   train_loss = 3.167\n",
      "Epoch  12 Batch   24/28   train_loss = 3.055\n",
      "Epoch  13 Batch    4/28   train_loss = 3.082\n",
      "Epoch  13 Batch   12/28   train_loss = 3.007\n",
      "Epoch  13 Batch   20/28   train_loss = 2.960\n",
      "Epoch  14 Batch    0/28   train_loss = 2.964\n",
      "Epoch  14 Batch    8/28   train_loss = 2.923\n",
      "Epoch  14 Batch   16/28   train_loss = 2.790\n",
      "Epoch  14 Batch   24/28   train_loss = 2.725\n",
      "Epoch  15 Batch    4/28   train_loss = 2.760\n",
      "Epoch  15 Batch   12/28   train_loss = 2.650\n",
      "Epoch  15 Batch   20/28   train_loss = 2.648\n",
      "Epoch  16 Batch    0/28   train_loss = 2.615\n",
      "Epoch  16 Batch    8/28   train_loss = 2.637\n",
      "Epoch  16 Batch   16/28   train_loss = 2.456\n",
      "Epoch  16 Batch   24/28   train_loss = 2.447\n",
      "Epoch  17 Batch    4/28   train_loss = 2.458\n",
      "Epoch  17 Batch   12/28   train_loss = 2.377\n",
      "Epoch  17 Batch   20/28   train_loss = 2.353\n",
      "Epoch  18 Batch    0/28   train_loss = 2.363\n",
      "Epoch  18 Batch    8/28   train_loss = 2.361\n",
      "Epoch  18 Batch   16/28   train_loss = 2.202\n",
      "Epoch  18 Batch   24/28   train_loss = 2.168\n",
      "Epoch  19 Batch    4/28   train_loss = 2.198\n",
      "Epoch  19 Batch   12/28   train_loss = 2.131\n",
      "Epoch  19 Batch   20/28   train_loss = 2.105\n",
      "Epoch  20 Batch    0/28   train_loss = 2.100\n",
      "Epoch  20 Batch    8/28   train_loss = 2.154\n",
      "Epoch  20 Batch   16/28   train_loss = 1.942\n",
      "Epoch  20 Batch   24/28   train_loss = 1.943\n",
      "Epoch  21 Batch    4/28   train_loss = 1.942\n",
      "Epoch  21 Batch   12/28   train_loss = 1.917\n",
      "Epoch  21 Batch   20/28   train_loss = 1.857\n",
      "Epoch  22 Batch    0/28   train_loss = 1.883\n",
      "Epoch  22 Batch    8/28   train_loss = 1.932\n",
      "Epoch  22 Batch   16/28   train_loss = 1.760\n",
      "Epoch  22 Batch   24/28   train_loss = 1.719\n",
      "Epoch  23 Batch    4/28   train_loss = 1.783\n",
      "Epoch  23 Batch   12/28   train_loss = 1.689\n",
      "Epoch  23 Batch   20/28   train_loss = 1.684\n",
      "Epoch  24 Batch    0/28   train_loss = 1.649\n",
      "Epoch  24 Batch    8/28   train_loss = 1.735\n",
      "Epoch  24 Batch   16/28   train_loss = 1.562\n",
      "Epoch  24 Batch   24/28   train_loss = 1.569\n",
      "Epoch  25 Batch    4/28   train_loss = 1.578\n",
      "Epoch  25 Batch   12/28   train_loss = 1.490\n",
      "Epoch  25 Batch   20/28   train_loss = 1.513\n",
      "Epoch  26 Batch    0/28   train_loss = 1.468\n",
      "Epoch  26 Batch    8/28   train_loss = 1.602\n",
      "Epoch  26 Batch   16/28   train_loss = 1.363\n",
      "Epoch  26 Batch   24/28   train_loss = 1.455\n",
      "Epoch  27 Batch    4/28   train_loss = 1.366\n",
      "Epoch  27 Batch   12/28   train_loss = 1.377\n",
      "Epoch  27 Batch   20/28   train_loss = 1.324\n",
      "Epoch  28 Batch    0/28   train_loss = 1.354\n",
      "Epoch  28 Batch    8/28   train_loss = 1.374\n",
      "Epoch  28 Batch   16/28   train_loss = 1.225\n",
      "Epoch  28 Batch   24/28   train_loss = 1.257\n",
      "Epoch  29 Batch    4/28   train_loss = 1.235\n",
      "Epoch  29 Batch   12/28   train_loss = 1.156\n",
      "Epoch  29 Batch   20/28   train_loss = 1.155\n",
      "Epoch  30 Batch    0/28   train_loss = 1.136\n",
      "Epoch  30 Batch    8/28   train_loss = 1.208\n",
      "Epoch  30 Batch   16/28   train_loss = 1.043\n",
      "Epoch  30 Batch   24/28   train_loss = 1.062\n",
      "Epoch  31 Batch    4/28   train_loss = 1.016\n",
      "Epoch  31 Batch   12/28   train_loss = 0.985\n",
      "Epoch  31 Batch   20/28   train_loss = 1.002\n",
      "Epoch  32 Batch    0/28   train_loss = 0.963\n",
      "Epoch  32 Batch    8/28   train_loss = 1.016\n",
      "Epoch  32 Batch   16/28   train_loss = 0.875\n",
      "Epoch  32 Batch   24/28   train_loss = 0.967\n",
      "Epoch  33 Batch    4/28   train_loss = 0.871\n",
      "Epoch  33 Batch   12/28   train_loss = 0.870\n",
      "Epoch  33 Batch   20/28   train_loss = 0.825\n",
      "Epoch  34 Batch    0/28   train_loss = 0.879\n",
      "Epoch  34 Batch    8/28   train_loss = 0.881\n",
      "Epoch  34 Batch   16/28   train_loss = 0.786\n",
      "Epoch  34 Batch   24/28   train_loss = 0.778\n",
      "Epoch  35 Batch    4/28   train_loss = 0.762\n",
      "Epoch  35 Batch   12/28   train_loss = 0.739\n",
      "Epoch  35 Batch   20/28   train_loss = 0.740\n",
      "Epoch  36 Batch    0/28   train_loss = 0.711\n",
      "Epoch  36 Batch    8/28   train_loss = 0.753\n",
      "Epoch  36 Batch   16/28   train_loss = 0.668\n",
      "Epoch  36 Batch   24/28   train_loss = 0.689\n",
      "Epoch  37 Batch    4/28   train_loss = 0.646\n",
      "Epoch  37 Batch   12/28   train_loss = 0.614\n",
      "Epoch  37 Batch   20/28   train_loss = 0.641\n",
      "Epoch  38 Batch    0/28   train_loss = 0.612\n",
      "Epoch  38 Batch    8/28   train_loss = 0.665\n",
      "Epoch  38 Batch   16/28   train_loss = 0.548\n",
      "Epoch  38 Batch   24/28   train_loss = 0.592\n",
      "Epoch  39 Batch    4/28   train_loss = 0.543\n",
      "Epoch  39 Batch   12/28   train_loss = 0.547\n",
      "Epoch  39 Batch   20/28   train_loss = 0.536\n",
      "Epoch  40 Batch    0/28   train_loss = 0.517\n",
      "Epoch  40 Batch    8/28   train_loss = 0.545\n",
      "Epoch  40 Batch   16/28   train_loss = 0.496\n",
      "Epoch  40 Batch   24/28   train_loss = 0.501\n",
      "Epoch  41 Batch    4/28   train_loss = 0.472\n",
      "Epoch  41 Batch   12/28   train_loss = 0.463\n",
      "Epoch  41 Batch   20/28   train_loss = 0.487\n",
      "Epoch  42 Batch    0/28   train_loss = 0.456\n",
      "Epoch  42 Batch    8/28   train_loss = 0.465\n",
      "Epoch  42 Batch   16/28   train_loss = 0.427\n",
      "Epoch  42 Batch   24/28   train_loss = 0.423\n",
      "Epoch  43 Batch    4/28   train_loss = 0.422\n",
      "Epoch  43 Batch   12/28   train_loss = 0.397\n",
      "Epoch  43 Batch   20/28   train_loss = 0.436\n",
      "Epoch  44 Batch    0/28   train_loss = 0.389\n",
      "Epoch  44 Batch    8/28   train_loss = 0.427\n",
      "Epoch  44 Batch   16/28   train_loss = 0.364\n",
      "Epoch  44 Batch   24/28   train_loss = 0.389\n",
      "Epoch  45 Batch    4/28   train_loss = 0.364\n",
      "Epoch  45 Batch   12/28   train_loss = 0.346\n",
      "Epoch  45 Batch   20/28   train_loss = 0.383\n",
      "Epoch  46 Batch    0/28   train_loss = 0.340\n",
      "Epoch  46 Batch    8/28   train_loss = 0.378\n",
      "Epoch  46 Batch   16/28   train_loss = 0.308\n",
      "Epoch  46 Batch   24/28   train_loss = 0.344\n",
      "Epoch  47 Batch    4/28   train_loss = 0.310\n",
      "Epoch  47 Batch   12/28   train_loss = 0.304\n"
     ]
    }
   ],
   "source": [
    "batches = get_batches(int_text, batch_size, seq_length)\n",
    "\n",
    "with tf.Session(graph=train_graph) as sess:\n",
    "    sess.run(tf.global_variables_initializer())\n",
    "\n",
    "    for epoch_i in range(num_epochs):\n",
    "        state = sess.run(initial_state, {input_text: batches[0][0]})\n",
    "\n",
    "        for batch_i, (x, y) in enumerate(batches):\n",
    "            feed = {\n",
    "                input_text: x,\n",
    "                targets: y,\n",
    "                initial_state: state,\n",
    "                lr: learning_rate}\n",
    "            train_loss, state, _ = sess.run([cost, final_state, train_op], feed)\n",
    "\n",
    "            # Show every <show_every_n_batches> batches\n",
    "            if (epoch_i * len(batches) + batch_i) % show_every_n_batches == 0:\n",
    "                print('Epoch {:>3} Batch {:>4}/{}   train_loss = {:.3f}'.format(\n",
    "                    epoch_i,\n",
    "                    batch_i,\n",
    "                    len(batches),\n",
    "                    train_loss))\n",
    "\n",
    "    # Save Model\n",
    "    saver = tf.train.Saver()\n",
    "    saver.save(sess, save_dir)\n",
    "    print('Model Trained and Saved')"
   ]
  },
  {
   "cell_type": "markdown",
   "metadata": {},
   "source": [
    "## Save Parameters\n",
    "Save `seq_length` and `save_dir` for generating a new TV script."
   ]
  },
  {
   "cell_type": "code",
   "execution_count": 53,
   "metadata": {
    "collapsed": true
   },
   "outputs": [],
   "source": [
    "# Save parameters for checkpoint\n",
    "helper.save_params((seq_length, save_dir))"
   ]
  },
  {
   "cell_type": "markdown",
   "metadata": {},
   "source": [
    "# Checkpoint"
   ]
  },
  {
   "cell_type": "code",
   "execution_count": 54,
   "metadata": {
    "collapsed": true
   },
   "outputs": [],
   "source": [
    "import tensorflow as tf\n",
    "import numpy as np\n",
    "import helper\n",
    "import problem_unittests as tests\n",
    "\n",
    "_, vocab_to_int, int_to_vocab, token_dict = helper.load_preprocess()\n",
    "seq_length, load_dir = helper.load_params()"
   ]
  },
  {
   "cell_type": "markdown",
   "metadata": {},
   "source": [
    "## Implement Generate Functions\n",
    "### Get Tensors\n",
    "Get tensors from `loaded_graph` using the function [`get_tensor_by_name()`](https://www.tensorflow.org/api_docs/python/tf/Graph#get_tensor_by_name).  Get the tensors using the following names:\n",
    "- \"input:0\"\n",
    "- \"initial_state:0\"\n",
    "- \"final_state:0\"\n",
    "- \"probs:0\"\n",
    "\n",
    "Return the tensors in the following tuple `(InputTensor, InitialStateTensor, FinalStateTensor, ProbsTensor)` "
   ]
  },
  {
   "cell_type": "code",
   "execution_count": 55,
   "metadata": {},
   "outputs": [
    {
     "name": "stdout",
     "output_type": "stream",
     "text": [
      "Tests Passed\n"
     ]
    }
   ],
   "source": [
    "def get_tensors(loaded_graph):\n",
    "    \"\"\"\n",
    "    Get input, initial state, final state, and probabilities tensor from <loaded_graph>\n",
    "    :param loaded_graph: TensorFlow graph loaded from file\n",
    "    :return: Tuple (InputTensor, InitialStateTensor, FinalStateTensor, ProbsTensor)\n",
    "    \"\"\"\n",
    "    InputTensor = loaded_graph.get_tensor_by_name(\"input:0\")\n",
    "    InitialStateTensor = loaded_graph.get_tensor_by_name(\"initial_state:0\")\n",
    "    FinalStateTensor = loaded_graph.get_tensor_by_name(\"final_state:0\")\n",
    "    ProbsTensor = loaded_graph.get_tensor_by_name(\"probs:0\")\n",
    "    return InputTensor, InitialStateTensor, FinalStateTensor, ProbsTensor\n",
    "\n",
    "\n",
    "tests.test_get_tensors(get_tensors)"
   ]
  },
  {
   "cell_type": "markdown",
   "metadata": {},
   "source": [
    "### Choose Word\n",
    "Implement the `pick_word()` function to select the next word using `probabilities`."
   ]
  },
  {
   "cell_type": "code",
   "execution_count": 56,
   "metadata": {},
   "outputs": [
    {
     "name": "stdout",
     "output_type": "stream",
     "text": [
      "Tests Passed\n"
     ]
    }
   ],
   "source": [
    "def pick_word(probabilities, int_to_vocab):\n",
    "    \"\"\"\n",
    "    Pick the next word in the generated text\n",
    "    :param probabilities: Probabilites of the next word\n",
    "    :param int_to_vocab: Dictionary of word ids as the keys and words as the values\n",
    "    :return: String of the predicted word\n",
    "    \"\"\"\n",
    "    i = np.random.choice(range(len(probabilities)), p=probabilities)\n",
    "    return int_to_vocab[i]\n",
    "\n",
    "tests.test_pick_word(pick_word)"
   ]
  },
  {
   "cell_type": "markdown",
   "metadata": {},
   "source": [
    "## Generate Story\n",
    "This will generate the story.  Set `gen_length` to the length of story you want to generate."
   ]
  },
  {
   "cell_type": "code",
   "execution_count": 58,
   "metadata": {
    "scrolled": true
   },
   "outputs": [
    {
     "name": "stdout",
     "output_type": "stream",
     "text": [
      "tomó el cuchillo de la cocina y le ofreciera interés y la royal, amable–. dimos mi permiso. se abrió pareció que no era una finalidad esperanza de curar a su sueño. pero a eso no la corte con mi silencioso acompañante y anduvo rugiendo por el cielo, recortado de ellos o conradín: era personalmente de respeto. ya no dejaba, mientras este extremo, mentando el cuchillo de un mal humor inaguantable, y al oído con él no fuera por ya? -preguntó hathaway, convertido sobre la primera tendencia del cielo raso se pone en que no le\n"
     ]
    }
   ],
   "source": [
    "gen_length = 100\n",
    "\n",
    "\n",
    "gen_sentences = [\"tomó\", \"el\", \"cuchillo\", \"de\", \"la\",  \"cocina\"]\n",
    "loaded_graph = tf.Graph()\n",
    "with tf.Session(graph=loaded_graph) as sess:\n",
    "    # Load saved model\n",
    "    loader = tf.train.import_meta_graph(load_dir + '.meta')\n",
    "    loader.restore(sess, load_dir)\n",
    "\n",
    "    # Get Tensors from loaded model\n",
    "    input_text, initial_state, final_state, probs = get_tensors(loaded_graph)\n",
    "\n",
    "    # Sentences generation setup\n",
    "    prev_state = sess.run(initial_state, {input_text: np.array([[1]])})\n",
    "\n",
    "    # Generate sentences\n",
    "    for n in range(gen_length):\n",
    "        # Dynamic Input\n",
    "        dyn_input = [[vocab_to_int[word] for word in gen_sentences[-seq_length:]]]\n",
    "        dyn_seq_length = len(dyn_input[0])\n",
    "\n",
    "        # Get Prediction\n",
    "        probabilities, prev_state = sess.run(\n",
    "            [probs, final_state],\n",
    "            {input_text: dyn_input, initial_state: prev_state})\n",
    "        \n",
    "        pred_word = pick_word(probabilities[dyn_seq_length-1], int_to_vocab)\n",
    "\n",
    "        gen_sentences.append(pred_word)\n",
    "    \n",
    "    # Remove tokens\n",
    "    tv_script = ' '.join(gen_sentences)\n",
    "    for key, token in token_dict.items():\n",
    "        ending = ' ' if key in ['\\n', '(', '\"'] else ''\n",
    "        tv_script = tv_script.replace(' ' + token.lower(), key)\n",
    "    tv_script = tv_script.replace('\\n ', '\\n')\n",
    "    tv_script = tv_script.replace('( ', '(')\n",
    "        \n",
    "    print(tv_script)"
   ]
  }
 ],
 "metadata": {
  "kernelspec": {
   "display_name": "Python 3",
   "language": "python",
   "name": "python3"
  },
  "language_info": {
   "codemirror_mode": {
    "name": "ipython",
    "version": 3
   },
   "file_extension": ".py",
   "mimetype": "text/x-python",
   "name": "python",
   "nbconvert_exporter": "python",
   "pygments_lexer": "ipython3",
   "version": "3.6.1"
  },
  "widgets": {
   "state": {},
   "version": "1.1.2"
  }
 },
 "nbformat": 4,
 "nbformat_minor": 1
}
